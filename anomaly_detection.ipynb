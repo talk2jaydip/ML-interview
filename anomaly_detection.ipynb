{
 "cells": [
  {
   "cell_type": "markdown",
   "metadata": {},
   "source": [
    "\n",
    "#### What is anomaly detection\n",
    "> Anomaly detection is the task of identifying data points that are significantly different from the majority of the dataset, often referred to as outliers. \n",
    "\n",
    "`Anomalies can be indicative of errors in data collection, fraudulent activity,`\n",
    "\n",
    "1.  **Statistical methods:** These methods assume that the majority of the data follows a certain distribution and identify anomalies based on deviations from that distribution. \n",
    "> An example of this is the Z-score method, which identifies data points that are a certain number of standard deviations away from the mean.\n",
    "    \n",
    "2.  **Clustering methods:** These methods group similar data points together and identify anomalies as data points that do not belong to any cluster. \n",
    "> DBSCAN is an example of a clustering-based anomaly detection algorithm.\n",
    "    \n",
    "3.  **Supervised learning methods:** These methods train a classifier on a labeled dataset and then identify anomalies as data points that are misclassified. For example, if we are trying to classify images as either cats or dogs, an image that is misclassified as a cat when it is actually a dog may be considered an anomaly.\n",
    "    \n",
    "4.  **Unsupervised learning methods:** These methods do not require labeled data and instead `identify anomalies based on their deviation from the normal behavior of the dataset`. \n",
    "> One example is the isolation forest algorithm, which builds a tree-based model to identify anomalies as data points that require fewer splits to isolate.\n",
    "\n",
    "here are many other algorithms for detecting anomalies, some of which include:\n",
    "\n",
    "1.  Local Outlier Factor (LOF): LOF is a density-based algorithm that identifies anomalies as data points with a significantly lower density than their neighbors.\n",
    "    \n",
    "2.  One-Class SVM: **One-Class SVM is a supervised learning** algorithm that identifies anomalies as data points that lie outside the boundary of a training dataset.\n",
    "    \n",
    "3.  Gaussian Mixture Model (GMM): **GMM is a clustering-based algorithm that identifies anomalies as data points that do not fit into any cluster or fit into a low-density cluster.**\n",
    "    \n",
    "4. **Autoencoder**: Autoencoder is an unsupervised learning algorithm that identifies anomalies as data points that have `high reconstruction errors when passed through a neural network`.\n",
    "    \n",
    "5.  **Mahalanobis Distance**: Mahalanobis Distance is a statistical method that identifies anomalies as data points that are significantly different from the majority of the dataset based on their `distance and covariance with other data points`.\n",
    "    \n",
    "6.  **Angle-Based Outlier Detection (ABOD)**: ABOD is a distance-based algorithm that identifies anomalies as data points with a significantly different angle than their neighbors.\n",
    "    \n",
    "7.  Histogram-Based Outlier Detection (HBOS): HBOS is a binning-based algorithm that identifies anomalies as **data points that fall into bins with a low frequency of occurrence.*\n",
    "\n",
    "\n",
    "There are several types of anomalies that can occur in data:\n",
    "\n",
    "**1.  Point Anomaly:** This is the simplest type of anomaly and refers to individual data points that are significantly different from the majority of the data. \n",
    "\n",
    ">For example, a transaction with an unusually large amount compared to other transactions in a financial dataset.\n",
    "\n",
    "> For example, consider a dataset containing the average monthly temperature for a city over several years. The dataset may have a normal distribution, with most of the data points clustered around the mean temperature. However, if there is a single data point that is much higher or lower than the mean temperature, it can be considered a point anomaly.\n",
    "    \n",
    "2.  **Contextual Anomaly:** This type of anomaly occurs when a data point is not anomalous in itself, but is anomalous in a certain context. \n",
    "\n",
    "> For example, a sudden increase in web traffic during an off-peak period may be considered an anomaly.\n",
    "\n",
    "For example, consider a dataset containing the average sales of a product over a period of time. The sales may be high during the holiday season, but low during other times of the year. `If there is a sudden increase in sales during a non-holiday period, it can be considered a contextual anomaly`. \n",
    "\n",
    "This may be due to a marketing campaign or a change in the product's features, and may require further investigation to understand the cause of the anomaly.\n",
    "    \n",
    "**3.  Collective Anomaly:** Collective anomalies refer to a group of data points that are anomalous together, but individually may not be considered anomalous. \n",
    "> For example, a sudden drop in sales for a group of products in a retail dataset.\n",
    "    \n",
    "4.  Temporal Anomaly: Temporal anomalies occur when a data point is anomalous due to its position in time. \n",
    "\n",
    "> For example, a sudden increase in temperature during the winter season may be considered an anomaly.\n",
    "\n",
    "![](https://miro.medium.com/v2/resize:fit:875/1*yRnO9t74xxlkqGzK-kI6TQ.png)*\n",
    "#### How to choose an anomaly detection algorithm?"
   ]
  },
  {
   "cell_type": "markdown",
   "metadata": {},
   "source": []
  },
  {
   "cell_type": "markdown",
   "metadata": {},
   "source": []
  },
  {
   "cell_type": "markdown",
   "metadata": {},
   "source": []
  },
  {
   "cell_type": "markdown",
   "metadata": {},
   "source": []
  },
  {
   "cell_type": "markdown",
   "metadata": {},
   "source": []
  },
  {
   "cell_type": "markdown",
   "metadata": {},
   "source": []
  }
 ],
 "metadata": {
  "kernelspec": {
   "display_name": "Python 3 (ipykernel)",
   "language": "python",
   "name": "python3"
  },
  "language_info": {
   "codemirror_mode": {
    "name": "ipython",
    "version": 3
   },
   "file_extension": ".py",
   "mimetype": "text/x-python",
   "name": "python",
   "nbconvert_exporter": "python",
   "pygments_lexer": "ipython3",
   "version": "3.7.6"
  }
 },
 "nbformat": 4,
 "nbformat_minor": 4
}
