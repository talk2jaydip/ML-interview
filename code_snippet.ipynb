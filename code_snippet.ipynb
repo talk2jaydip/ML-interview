{
 "cells": [
  {
   "cell_type": "code",
   "execution_count": null,
   "metadata": {},
   "outputs": [],
   "source": []
  },
  {
   "cell_type": "markdown",
   "metadata": {},
   "source": [
    "You are assigned to put some amount of boxes onto one truck. You are given a 2D array boxTypes, where boxTypes[i] = [numberOfBoxesi, numberOfUnitsPerBoxi]:\n",
    " numberOfBoxesi is the number of boxes of type i.\n",
    " numberOfUnitsPerBoxi is the number of units in each box of the type i.\n",
    "\n",
    "You are also given an integer truckSize, which is the maximum number of boxes that can be put on the truck.\n",
    " You can choose any boxes to put on the truck as long as the number of boxes does not exceed truckSize.\n",
    "Return the maximum total number of units that can be put on the truck.\n",
    "\n",
    "Example 1:\n",
    "Input: boxTypes = [[1,3],[2,2],[3,1]], truckSize = 4 Output: 8\n",
    "Example 2\n",
    "Input: boxTypes = [[5,10],[2,5],[4,7],[3,9]], truckSize = 10 Output: 91"
   ]
  },
  {
   "cell_type": "code",
   "execution_count": 56,
   "metadata": {},
   "outputs": [],
   "source": [
    "input = [[1,3],[2,2],[3,1]]\n",
    "#[[5,10],[2,5],[4,7],[3,9]]\n",
    "\n"
   ]
  },
  {
   "cell_type": "code",
   "execution_count": 57,
   "metadata": {},
   "outputs": [
    {
     "data": {
      "text/plain": [
       "{1: 3, 2: 2, 3: 1}"
      ]
     },
     "execution_count": 57,
     "metadata": {},
     "output_type": "execute_result"
    }
   ],
   "source": [
    "unit_size = {box:unit for box, unit in input}\n",
    "unit_size"
   ]
  },
  {
   "cell_type": "code",
   "execution_count": 58,
   "metadata": {},
   "outputs": [
    {
     "data": {
      "text/plain": [
       "{3: 1, 2: 2, 1: 3}"
      ]
     },
     "execution_count": 58,
     "metadata": {},
     "output_type": "execute_result"
    }
   ],
   "source": [
    "unit_to_box = {unit:box for box, unit in input}\n",
    "unit_to_box"
   ]
  },
  {
   "cell_type": "code",
   "execution_count": 59,
   "metadata": {},
   "outputs": [
    {
     "data": {
      "text/plain": [
       "[3, 2, 1]"
      ]
     },
     "execution_count": 59,
     "metadata": {},
     "output_type": "execute_result"
    }
   ],
   "source": [
    "box_size = list(reversed(sorted(unit_size,key=lambda x:x)))\n",
    "box_size"
   ]
  },
  {
   "cell_type": "code",
   "execution_count": 60,
   "metadata": {},
   "outputs": [
    {
     "data": {
      "text/plain": [
       "[3, 2, 1]"
      ]
     },
     "execution_count": 60,
     "metadata": {},
     "output_type": "execute_result"
    }
   ],
   "source": [
    "unit_size = list(reversed(sorted(unit_size.values(),key=lambda x:x)))\n",
    "unit_size"
   ]
  },
  {
   "cell_type": "code",
   "execution_count": 61,
   "metadata": {},
   "outputs": [
    {
     "data": {
      "text/plain": [
       "8"
      ]
     },
     "execution_count": 61,
     "metadata": {},
     "output_type": "execute_result"
    }
   ],
   "source": [
    "truck_capcity = 0\n",
    "truck_size = 4\n",
    "for unit in unit_size:\n",
    "    box_size = unit_to_box[unit]\n",
    "    if truck_size > 0 and truck_size > box_size:\n",
    "        #print(\"--\",unit,box_size,truck_size)\n",
    "        truck_capcity +=  unit*box_size\n",
    "        truck_size -= box_size\n",
    "    elif truck_size > 0:\n",
    "        #print(unit, box_size, truck_size)\n",
    "        truck_capcity +=  unit*truck_size\n",
    "        truck_size -= box_size\n",
    "    #print(\"cap\", truck_capcity, truck_size)\n",
    "\n",
    "truck_capcity"
   ]
  },
  {
   "cell_type": "code",
   "execution_count": 80,
   "metadata": {},
   "outputs": [],
   "source": [
    "from collections import Counter, OrderedDict\n",
    "from itertools import  groupby, combinations"
   ]
  },
  {
   "cell_type": "code",
   "execution_count": 68,
   "metadata": {},
   "outputs": [
    {
     "data": {
      "text/plain": [
       "Counter({'s': 2, 'f': 2, 'd': 1})"
      ]
     },
     "execution_count": 68,
     "metadata": {},
     "output_type": "execute_result"
    }
   ],
   "source": [
    "s = \"sfsdf\"\n",
    "Counter(s)"
   ]
  },
  {
   "cell_type": "code",
   "execution_count": 69,
   "metadata": {},
   "outputs": [
    {
     "data": {
      "text/plain": [
       "OrderedDict([(1, 3), (2, 2), (3, 1)])"
      ]
     },
     "execution_count": 69,
     "metadata": {},
     "output_type": "execute_result"
    }
   ],
   "source": [
    "a = OrderedDict([[1,3],[2,2],[3,1]])\n",
    "a"
   ]
  },
  {
   "cell_type": "code",
   "execution_count": 72,
   "metadata": {},
   "outputs": [
    {
     "data": {
      "text/plain": [
       "[[1, 3], [2, 2], [3, 1]]"
      ]
     },
     "execution_count": 72,
     "metadata": {},
     "output_type": "execute_result"
    }
   ],
   "source": [
    "l = [[1,3],[2,2],[3,1]]\n",
    "sorted(l, key=lambda x:x[1], reverse=True)"
   ]
  },
  {
   "cell_type": "code",
   "execution_count": 75,
   "metadata": {},
   "outputs": [
    {
     "data": {
      "text/plain": [
       "'2a1b5c3a'"
      ]
     },
     "execution_count": 75,
     "metadata": {},
     "output_type": "execute_result"
    }
   ],
   "source": [
    "word = \"aabcccccaaa\"\n",
    "encoded_word = \"\".join(f\"{len(list(g))}{k}\" for k, g in groupby(word))\n",
    "encoded_word\n"
   ]
  },
  {
   "cell_type": "code",
   "execution_count": 79,
   "metadata": {},
   "outputs": [
    {
     "data": {
      "text/plain": [
       "[2, 1, 0]"
      ]
     },
     "execution_count": 79,
     "metadata": {},
     "output_type": "execute_result"
    }
   ],
   "source": [
    "sorted_index = [i for i, _ in sorted(enumerate([[1,3],[2,2],[3,1]]), key=lambda x: x[0], reverse=True)]\n",
    "sorted_index"
   ]
  },
  {
   "cell_type": "code",
   "execution_count": 88,
   "metadata": {},
   "outputs": [
    {
     "name": "stdout",
     "output_type": "stream",
     "text": [
      "('c',)\n",
      "('a',)\n",
      "('t',)\n"
     ]
    }
   ],
   "source": [
    "for c in combinations(\"cat\", 1):\n",
    "    print(c)"
   ]
  },
  {
   "cell_type": "code",
   "execution_count": null,
   "metadata": {},
   "outputs": [],
   "source": []
  }
 ],
 "metadata": {
  "kernelspec": {
   "display_name": "Python 3",
   "language": "python",
   "name": "python3"
  },
  "language_info": {
   "codemirror_mode": {
    "name": "ipython",
    "version": 3
   },
   "file_extension": ".py",
   "mimetype": "text/x-python",
   "name": "python",
   "nbconvert_exporter": "python",
   "pygments_lexer": "ipython3",
   "version": "3.7.6"
  },
  "orig_nbformat": 4
 },
 "nbformat": 4,
 "nbformat_minor": 2
}
