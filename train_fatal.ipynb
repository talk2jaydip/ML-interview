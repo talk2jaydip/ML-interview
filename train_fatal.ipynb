{
 "cells": [
  {
   "cell_type": "code",
   "execution_count": 1,
   "metadata": {},
   "outputs": [],
   "source": [
    "import numpy as np\n",
    "import pandas as pd\n",
    "import matplotlib.pyplot as plt\n"
   ]
  },
  {
   "cell_type": "code",
   "execution_count": 2,
   "metadata": {},
   "outputs": [],
   "source": [
    "from sklearn.model_selection import check_cv, cross_val_score, train_test_split, KFold, RandomizedSearchCV\n",
    "from sklearn.metrics import classification_report, confusion_matrix, auc,accuracy_score,roc_auc_score,roc_curve,balanced_accuracy_score\n",
    "from sklearn.preprocessing import StandardScaler, LabelEncoder,OneHotEncoder"
   ]
  },
  {
   "cell_type": "code",
   "execution_count": 36,
   "metadata": {},
   "outputs": [],
   "source": [
    "from sklearn.ensemble import RandomForestClassifier\n",
    "from sklearn.linear_model import LogisticRegression\n",
    "from sklearn.neighbors import KNeighborsClassifier\n",
    "from sklearn.naive_bayes import MultinomialNB, GaussianNB\n",
    "\n",
    "from sklearn.decomposition import PCA"
   ]
  },
  {
   "cell_type": "code",
   "execution_count": 4,
   "metadata": {},
   "outputs": [],
   "source": [
    "from xgboost import XGBClassifier\n",
    "from xgboost import plot_importance"
   ]
  },
  {
   "cell_type": "code",
   "execution_count": 5,
   "metadata": {},
   "outputs": [],
   "source": [
    "df  = pd.read_csv(\"train_fatal.csv\")"
   ]
  },
  {
   "cell_type": "code",
   "execution_count": 6,
   "metadata": {},
   "outputs": [
    {
     "data": {
      "text/plain": [
       "Index(['baseline value', 'accelerations', 'fetal_movement',\n",
       "       'uterine_contractions', 'light_decelerations', 'severe_decelerations',\n",
       "       'prolongued_decelerations', 'abnormal_short_term_variability',\n",
       "       'mean_value_of_short_term_variability',\n",
       "       'percentage_of_time_with_abnormal_long_term_variability',\n",
       "       'mean_value_of_long_term_variability', 'histogram_width',\n",
       "       'histogram_min', 'histogram_max', 'histogram_number_of_peaks',\n",
       "       'histogram_number_of_zeroes', 'histogram_mode', 'histogram_mean',\n",
       "       'histogram_median', 'histogram_variance', 'histogram_tendency',\n",
       "       'fetal_health'],\n",
       "      dtype='object')"
      ]
     },
     "execution_count": 6,
     "metadata": {},
     "output_type": "execute_result"
    }
   ],
   "source": [
    "df.columns"
   ]
  },
  {
   "cell_type": "code",
   "execution_count": 7,
   "metadata": {},
   "outputs": [
    {
     "data": {
      "text/plain": [
       "baseline value                                               0\n",
       "accelerations                                              712\n",
       "fetal_movement                                            1048\n",
       "uterine_contractions                                       256\n",
       "light_decelerations                                        984\n",
       "severe_decelerations                                      1694\n",
       "prolongued_decelerations                                  1557\n",
       "abnormal_short_term_variability                              0\n",
       "mean_value_of_short_term_variability                         0\n",
       "percentage_of_time_with_abnormal_long_term_variability    1004\n",
       "mean_value_of_long_term_variability                        110\n",
       "histogram_width                                              0\n",
       "histogram_min                                                0\n",
       "histogram_max                                                0\n",
       "histogram_number_of_peaks                                   83\n",
       "histogram_number_of_zeroes                                1292\n",
       "histogram_mode                                               0\n",
       "histogram_mean                                               0\n",
       "histogram_median                                             0\n",
       "histogram_variance                                         150\n",
       "histogram_tendency                                         892\n",
       "fetal_health                                                 0\n",
       "dtype: int64"
      ]
     },
     "execution_count": 7,
     "metadata": {},
     "output_type": "execute_result"
    }
   ],
   "source": [
    "(df==0).sum()"
   ]
  },
  {
   "cell_type": "code",
   "execution_count": 8,
   "metadata": {},
   "outputs": [
    {
     "data": {
      "text/plain": [
       "(1700, 22)"
      ]
     },
     "execution_count": 8,
     "metadata": {},
     "output_type": "execute_result"
    }
   ],
   "source": [
    "df.shape"
   ]
  },
  {
   "cell_type": "code",
   "execution_count": 9,
   "metadata": {},
   "outputs": [
    {
     "data": {
      "text/html": [
       "<div>\n",
       "<style scoped>\n",
       "    .dataframe tbody tr th:only-of-type {\n",
       "        vertical-align: middle;\n",
       "    }\n",
       "\n",
       "    .dataframe tbody tr th {\n",
       "        vertical-align: top;\n",
       "    }\n",
       "\n",
       "    .dataframe thead th {\n",
       "        text-align: right;\n",
       "    }\n",
       "</style>\n",
       "<table border=\"1\" class=\"dataframe\">\n",
       "  <thead>\n",
       "    <tr style=\"text-align: right;\">\n",
       "      <th></th>\n",
       "      <th>baseline value</th>\n",
       "      <th>accelerations</th>\n",
       "      <th>fetal_movement</th>\n",
       "      <th>uterine_contractions</th>\n",
       "      <th>light_decelerations</th>\n",
       "      <th>severe_decelerations</th>\n",
       "      <th>prolongued_decelerations</th>\n",
       "      <th>abnormal_short_term_variability</th>\n",
       "      <th>mean_value_of_short_term_variability</th>\n",
       "      <th>percentage_of_time_with_abnormal_long_term_variability</th>\n",
       "      <th>...</th>\n",
       "      <th>histogram_min</th>\n",
       "      <th>histogram_max</th>\n",
       "      <th>histogram_number_of_peaks</th>\n",
       "      <th>histogram_number_of_zeroes</th>\n",
       "      <th>histogram_mode</th>\n",
       "      <th>histogram_mean</th>\n",
       "      <th>histogram_median</th>\n",
       "      <th>histogram_variance</th>\n",
       "      <th>histogram_tendency</th>\n",
       "      <th>fetal_health</th>\n",
       "    </tr>\n",
       "  </thead>\n",
       "  <tbody>\n",
       "    <tr>\n",
       "      <th>count</th>\n",
       "      <td>1700.000000</td>\n",
       "      <td>1700.000000</td>\n",
       "      <td>1700.000000</td>\n",
       "      <td>1700.000000</td>\n",
       "      <td>1700.000000</td>\n",
       "      <td>1700.000000</td>\n",
       "      <td>1700.000000</td>\n",
       "      <td>1700.000000</td>\n",
       "      <td>1700.000000</td>\n",
       "      <td>1700.000000</td>\n",
       "      <td>...</td>\n",
       "      <td>1700.000000</td>\n",
       "      <td>1700.000000</td>\n",
       "      <td>1700.000000</td>\n",
       "      <td>1700.000000</td>\n",
       "      <td>1700.000000</td>\n",
       "      <td>1700.000000</td>\n",
       "      <td>1700.000000</td>\n",
       "      <td>1700.000000</td>\n",
       "      <td>1700.000000</td>\n",
       "      <td>1700.000000</td>\n",
       "    </tr>\n",
       "    <tr>\n",
       "      <th>mean</th>\n",
       "      <td>133.213529</td>\n",
       "      <td>0.003212</td>\n",
       "      <td>0.010211</td>\n",
       "      <td>0.004356</td>\n",
       "      <td>0.001899</td>\n",
       "      <td>0.000004</td>\n",
       "      <td>0.000158</td>\n",
       "      <td>46.508824</td>\n",
       "      <td>1.345353</td>\n",
       "      <td>9.738235</td>\n",
       "      <td>...</td>\n",
       "      <td>93.121176</td>\n",
       "      <td>163.842353</td>\n",
       "      <td>4.088824</td>\n",
       "      <td>0.324118</td>\n",
       "      <td>137.128235</td>\n",
       "      <td>134.461176</td>\n",
       "      <td>137.862941</td>\n",
       "      <td>19.046471</td>\n",
       "      <td>0.324706</td>\n",
       "      <td>1.304706</td>\n",
       "    </tr>\n",
       "    <tr>\n",
       "      <th>std</th>\n",
       "      <td>9.873344</td>\n",
       "      <td>0.003888</td>\n",
       "      <td>0.050124</td>\n",
       "      <td>0.002943</td>\n",
       "      <td>0.002976</td>\n",
       "      <td>0.000059</td>\n",
       "      <td>0.000587</td>\n",
       "      <td>17.276801</td>\n",
       "      <td>0.898037</td>\n",
       "      <td>18.227303</td>\n",
       "      <td>...</td>\n",
       "      <td>29.520766</td>\n",
       "      <td>17.651851</td>\n",
       "      <td>2.927774</td>\n",
       "      <td>0.683795</td>\n",
       "      <td>16.608926</td>\n",
       "      <td>15.616890</td>\n",
       "      <td>14.552801</td>\n",
       "      <td>29.575447</td>\n",
       "      <td>0.608340</td>\n",
       "      <td>0.614788</td>\n",
       "    </tr>\n",
       "    <tr>\n",
       "      <th>min</th>\n",
       "      <td>106.000000</td>\n",
       "      <td>0.000000</td>\n",
       "      <td>0.000000</td>\n",
       "      <td>0.000000</td>\n",
       "      <td>0.000000</td>\n",
       "      <td>0.000000</td>\n",
       "      <td>0.000000</td>\n",
       "      <td>12.000000</td>\n",
       "      <td>0.200000</td>\n",
       "      <td>0.000000</td>\n",
       "      <td>...</td>\n",
       "      <td>50.000000</td>\n",
       "      <td>122.000000</td>\n",
       "      <td>0.000000</td>\n",
       "      <td>0.000000</td>\n",
       "      <td>60.000000</td>\n",
       "      <td>75.000000</td>\n",
       "      <td>77.000000</td>\n",
       "      <td>0.000000</td>\n",
       "      <td>-1.000000</td>\n",
       "      <td>1.000000</td>\n",
       "    </tr>\n",
       "    <tr>\n",
       "      <th>25%</th>\n",
       "      <td>126.000000</td>\n",
       "      <td>0.000000</td>\n",
       "      <td>0.000000</td>\n",
       "      <td>0.002000</td>\n",
       "      <td>0.000000</td>\n",
       "      <td>0.000000</td>\n",
       "      <td>0.000000</td>\n",
       "      <td>32.000000</td>\n",
       "      <td>0.700000</td>\n",
       "      <td>0.000000</td>\n",
       "      <td>...</td>\n",
       "      <td>67.000000</td>\n",
       "      <td>152.000000</td>\n",
       "      <td>2.000000</td>\n",
       "      <td>0.000000</td>\n",
       "      <td>129.000000</td>\n",
       "      <td>125.000000</td>\n",
       "      <td>128.000000</td>\n",
       "      <td>2.000000</td>\n",
       "      <td>0.000000</td>\n",
       "      <td>1.000000</td>\n",
       "    </tr>\n",
       "    <tr>\n",
       "      <th>50%</th>\n",
       "      <td>133.000000</td>\n",
       "      <td>0.002000</td>\n",
       "      <td>0.000000</td>\n",
       "      <td>0.004000</td>\n",
       "      <td>0.000000</td>\n",
       "      <td>0.000000</td>\n",
       "      <td>0.000000</td>\n",
       "      <td>48.000000</td>\n",
       "      <td>1.200000</td>\n",
       "      <td>0.000000</td>\n",
       "      <td>...</td>\n",
       "      <td>93.000000</td>\n",
       "      <td>162.000000</td>\n",
       "      <td>4.000000</td>\n",
       "      <td>0.000000</td>\n",
       "      <td>139.000000</td>\n",
       "      <td>135.500000</td>\n",
       "      <td>139.000000</td>\n",
       "      <td>7.000000</td>\n",
       "      <td>0.000000</td>\n",
       "      <td>1.000000</td>\n",
       "    </tr>\n",
       "    <tr>\n",
       "      <th>75%</th>\n",
       "      <td>140.000000</td>\n",
       "      <td>0.006000</td>\n",
       "      <td>0.003000</td>\n",
       "      <td>0.006000</td>\n",
       "      <td>0.003000</td>\n",
       "      <td>0.000000</td>\n",
       "      <td>0.000000</td>\n",
       "      <td>61.000000</td>\n",
       "      <td>1.700000</td>\n",
       "      <td>11.000000</td>\n",
       "      <td>...</td>\n",
       "      <td>120.000000</td>\n",
       "      <td>174.000000</td>\n",
       "      <td>6.000000</td>\n",
       "      <td>0.000000</td>\n",
       "      <td>148.000000</td>\n",
       "      <td>145.000000</td>\n",
       "      <td>148.000000</td>\n",
       "      <td>24.000000</td>\n",
       "      <td>1.000000</td>\n",
       "      <td>1.000000</td>\n",
       "    </tr>\n",
       "    <tr>\n",
       "      <th>max</th>\n",
       "      <td>159.000000</td>\n",
       "      <td>0.019000</td>\n",
       "      <td>0.481000</td>\n",
       "      <td>0.015000</td>\n",
       "      <td>0.015000</td>\n",
       "      <td>0.001000</td>\n",
       "      <td>0.005000</td>\n",
       "      <td>87.000000</td>\n",
       "      <td>7.000000</td>\n",
       "      <td>91.000000</td>\n",
       "      <td>...</td>\n",
       "      <td>159.000000</td>\n",
       "      <td>238.000000</td>\n",
       "      <td>18.000000</td>\n",
       "      <td>10.000000</td>\n",
       "      <td>187.000000</td>\n",
       "      <td>182.000000</td>\n",
       "      <td>186.000000</td>\n",
       "      <td>269.000000</td>\n",
       "      <td>1.000000</td>\n",
       "      <td>3.000000</td>\n",
       "    </tr>\n",
       "  </tbody>\n",
       "</table>\n",
       "<p>8 rows × 22 columns</p>\n",
       "</div>"
      ],
      "text/plain": [
       "       baseline value  accelerations  fetal_movement  uterine_contractions  \\\n",
       "count     1700.000000    1700.000000     1700.000000           1700.000000   \n",
       "mean       133.213529       0.003212        0.010211              0.004356   \n",
       "std          9.873344       0.003888        0.050124              0.002943   \n",
       "min        106.000000       0.000000        0.000000              0.000000   \n",
       "25%        126.000000       0.000000        0.000000              0.002000   \n",
       "50%        133.000000       0.002000        0.000000              0.004000   \n",
       "75%        140.000000       0.006000        0.003000              0.006000   \n",
       "max        159.000000       0.019000        0.481000              0.015000   \n",
       "\n",
       "       light_decelerations  severe_decelerations  prolongued_decelerations  \\\n",
       "count          1700.000000           1700.000000               1700.000000   \n",
       "mean              0.001899              0.000004                  0.000158   \n",
       "std               0.002976              0.000059                  0.000587   \n",
       "min               0.000000              0.000000                  0.000000   \n",
       "25%               0.000000              0.000000                  0.000000   \n",
       "50%               0.000000              0.000000                  0.000000   \n",
       "75%               0.003000              0.000000                  0.000000   \n",
       "max               0.015000              0.001000                  0.005000   \n",
       "\n",
       "       abnormal_short_term_variability  mean_value_of_short_term_variability  \\\n",
       "count                      1700.000000                           1700.000000   \n",
       "mean                         46.508824                              1.345353   \n",
       "std                          17.276801                              0.898037   \n",
       "min                          12.000000                              0.200000   \n",
       "25%                          32.000000                              0.700000   \n",
       "50%                          48.000000                              1.200000   \n",
       "75%                          61.000000                              1.700000   \n",
       "max                          87.000000                              7.000000   \n",
       "\n",
       "       percentage_of_time_with_abnormal_long_term_variability  ...  \\\n",
       "count                                        1700.000000       ...   \n",
       "mean                                            9.738235       ...   \n",
       "std                                            18.227303       ...   \n",
       "min                                             0.000000       ...   \n",
       "25%                                             0.000000       ...   \n",
       "50%                                             0.000000       ...   \n",
       "75%                                            11.000000       ...   \n",
       "max                                            91.000000       ...   \n",
       "\n",
       "       histogram_min  histogram_max  histogram_number_of_peaks  \\\n",
       "count    1700.000000    1700.000000                1700.000000   \n",
       "mean       93.121176     163.842353                   4.088824   \n",
       "std        29.520766      17.651851                   2.927774   \n",
       "min        50.000000     122.000000                   0.000000   \n",
       "25%        67.000000     152.000000                   2.000000   \n",
       "50%        93.000000     162.000000                   4.000000   \n",
       "75%       120.000000     174.000000                   6.000000   \n",
       "max       159.000000     238.000000                  18.000000   \n",
       "\n",
       "       histogram_number_of_zeroes  histogram_mode  histogram_mean  \\\n",
       "count                 1700.000000     1700.000000     1700.000000   \n",
       "mean                     0.324118      137.128235      134.461176   \n",
       "std                      0.683795       16.608926       15.616890   \n",
       "min                      0.000000       60.000000       75.000000   \n",
       "25%                      0.000000      129.000000      125.000000   \n",
       "50%                      0.000000      139.000000      135.500000   \n",
       "75%                      0.000000      148.000000      145.000000   \n",
       "max                     10.000000      187.000000      182.000000   \n",
       "\n",
       "       histogram_median  histogram_variance  histogram_tendency  fetal_health  \n",
       "count       1700.000000         1700.000000         1700.000000   1700.000000  \n",
       "mean         137.862941           19.046471            0.324706      1.304706  \n",
       "std           14.552801           29.575447            0.608340      0.614788  \n",
       "min           77.000000            0.000000           -1.000000      1.000000  \n",
       "25%          128.000000            2.000000            0.000000      1.000000  \n",
       "50%          139.000000            7.000000            0.000000      1.000000  \n",
       "75%          148.000000           24.000000            1.000000      1.000000  \n",
       "max          186.000000          269.000000            1.000000      3.000000  \n",
       "\n",
       "[8 rows x 22 columns]"
      ]
     },
     "execution_count": 9,
     "metadata": {},
     "output_type": "execute_result"
    }
   ],
   "source": [
    "df.describe()"
   ]
  },
  {
   "cell_type": "code",
   "execution_count": 10,
   "metadata": {},
   "outputs": [
    {
     "data": {
      "text/plain": [
       "1.0    0.778235\n",
       "2.0    0.138824\n",
       "3.0    0.082941\n",
       "Name: fetal_health, dtype: float64"
      ]
     },
     "execution_count": 10,
     "metadata": {},
     "output_type": "execute_result"
    }
   ],
   "source": [
    "df.fetal_health.value_counts(normalize=True)"
   ]
  },
  {
   "cell_type": "code",
   "execution_count": 11,
   "metadata": {},
   "outputs": [],
   "source": [
    "X = df.drop('fetal_health',axis=1)\n",
    "y = df.fetal_health"
   ]
  },
  {
   "cell_type": "code",
   "execution_count": 12,
   "metadata": {},
   "outputs": [],
   "source": [
    "scaler  = StandardScaler()"
   ]
  },
  {
   "cell_type": "code",
   "execution_count": 13,
   "metadata": {},
   "outputs": [],
   "source": [
    "X_train, X_test, y_train,y_test = train_test_split(X, y, test_size=0.3, random_state=42)"
   ]
  },
  {
   "cell_type": "code",
   "execution_count": 14,
   "metadata": {},
   "outputs": [],
   "source": [
    "X_train = scaler.fit_transform(X_train)"
   ]
  },
  {
   "cell_type": "code",
   "execution_count": 15,
   "metadata": {},
   "outputs": [],
   "source": [
    "X_test  = scaler.fit_transform(X_test)"
   ]
  },
  {
   "cell_type": "code",
   "execution_count": 25,
   "metadata": {},
   "outputs": [
    {
     "data": {
      "text/plain": [
       "LogisticRegression(class_weight={1: 0.77, 2: 0.13, 3: 0.08}, penalty='l1',\n",
       "                   solver='liblinear')"
      ]
     },
     "execution_count": 25,
     "metadata": {},
     "output_type": "execute_result"
    }
   ],
   "source": [
    "lr = LogisticRegression(solver= 'liblinear',class_weight={1:0.77, 2:0.13,3:0.08},penalty=\"l1\")\n",
    "lr_params = {\n",
    "            'solver': ['liblinear'],\n",
    "            'penalty': ['l1', 'l2'],\n",
    "            'class_weight':[{1:0.77, 2:0.13,3:0.08},None]}\n",
    "\n",
    "#rs_lr = RandomizedSearchCV(lr, lr_params,n_jobs=-1,random_state=42)\n",
    "lr.fit(X_train,y_train)\n"
   ]
  },
  {
   "cell_type": "code",
   "execution_count": 26,
   "metadata": {},
   "outputs": [
    {
     "name": "stdout",
     "output_type": "stream",
     "text": [
      "              precision    recall  f1-score   support\n",
      "\n",
      "         1.0       0.87      0.99      0.92       389\n",
      "         2.0       0.55      0.28      0.37        75\n",
      "         3.0       0.92      0.52      0.67        46\n",
      "\n",
      "    accuracy                           0.85       510\n",
      "   macro avg       0.78      0.60      0.65       510\n",
      "weighted avg       0.82      0.85      0.82       510\n",
      "\n"
     ]
    }
   ],
   "source": [
    "y_pred = lr.predict(X_test)\n",
    "print(classification_report(y_test,y_pred))"
   ]
  },
  {
   "cell_type": "code",
   "execution_count": 27,
   "metadata": {},
   "outputs": [
    {
     "data": {
      "text/plain": [
       "0.8450980392156863"
      ]
     },
     "execution_count": 27,
     "metadata": {},
     "output_type": "execute_result"
    }
   ],
   "source": [
    "accuracy_score(y_test, y_pred)"
   ]
  },
  {
   "cell_type": "code",
   "execution_count": 28,
   "metadata": {},
   "outputs": [],
   "source": [
    "cnf_matrix = confusion_matrix(y_test,y_pred)\n"
   ]
  },
  {
   "cell_type": "code",
   "execution_count": 29,
   "metadata": {},
   "outputs": [
    {
     "data": {
      "text/plain": [
       "array([[386,   3,   0],\n",
       "       [ 52,  21,   2],\n",
       "       [  8,  14,  24]], dtype=int64)"
      ]
     },
     "execution_count": 29,
     "metadata": {},
     "output_type": "execute_result"
    }
   ],
   "source": [
    "cnf_matrix"
   ]
  },
  {
   "cell_type": "code",
   "execution_count": 35,
   "metadata": {},
   "outputs": [
    {
     "data": {
      "text/plain": [
       "<matplotlib.image.AxesImage at 0x154818f9ac8>"
      ]
     },
     "execution_count": 35,
     "metadata": {},
     "output_type": "execute_result"
    },
    {
     "data": {
      "image/png": "[encoded data removed]",
      "text/plain": [
       "<Figure size 432x288 with 1 Axes>"
      ]
     },
     "metadata": {
      "needs_background": "light"
     },
     "output_type": "display_data"
    }
   ],
   "source": [
    "plt.imshow(cnf_matrix, interpolation='nearest',cmap=plt.cm.Blues)"
   ]
  },
  {
   "cell_type": "code",
   "execution_count": 37,
   "metadata": {},
   "outputs": [],
   "source": [
    "cov_mat = np.cov(X_train.T)\n"
   ]
  },
  {
   "cell_type": "code",
   "execution_count": null,
   "metadata": {},
   "outputs": [],
   "source": [
    "print('Covariance matrix: \\n%s' % cov_mat)"
   ]
  },
  {
   "cell_type": "code",
   "execution_count": null,
   "metadata": {},
   "outputs": [],
   "source": [
    "eig_vals, eig_vecs = np.linalg.eig(cov_mat)\n",
    "print('Eigenvectors \\n%s' % eig_vecs)"
   ]
  },
  {
   "cell_type": "code",
   "execution_count": 40,
   "metadata": {},
   "outputs": [
    {
     "name": "stdout",
     "output_type": "stream",
     "text": [
      "Eigenvalues \n",
      "[6.11076013e+00 3.50547318e+00 1.83441194e+00 1.49044150e+00\n",
      " 1.23189068e+00 1.01042306e+00 9.53287855e-01 9.45816027e-01\n",
      " 7.63450225e-01 6.43182952e-01 5.57606189e-01 4.83182688e-01\n",
      " 4.05676148e-01 3.38476157e-01 2.45037121e-01 1.74614427e-01\n",
      " 1.34016919e-01 1.16412084e-01 2.69087893e-02 4.65938239e-02\n",
      " 3.49388465e-16]\n"
     ]
    }
   ],
   "source": [
    "print('Eigenvalues \\n%s' % eig_vals)"
   ]
  },
  {
   "cell_type": "code",
   "execution_count": 41,
   "metadata": {},
   "outputs": [
    {
     "data": {
      "text/plain": [
       "[(6.110760131327758,\n",
       "  array([ 0.22416349, -0.05019432, -0.08301479, -0.12398229, -0.27813371,\n",
       "         -0.04871406, -0.19522711,  0.14806257, -0.31065075,  0.22630463,\n",
       "          0.00464462, -0.31764704,  0.33286638, -0.14241034, -0.23950403,\n",
       "         -0.11318603,  0.2677376 ,  0.30877969,  0.27665095, -0.29048769,\n",
       "          0.08579379])),\n",
       " (3.50547317804151,\n",
       "  array([-0.27244853, -0.29184456, -0.02549244, -0.02089153, -0.01645676,\n",
       "          0.06354844,  0.126669  ,  0.13311498, -0.14523469,  0.13932327,\n",
       "         -0.1006204 , -0.27801969,  0.14176911, -0.37439891, -0.24718419,\n",
       "         -0.14230251, -0.35885627, -0.32533526, -0.37303271, -0.08297428,\n",
       "         -0.22634671])),\n",
       " (1.834411939667179,\n",
       "  array([-0.33803238,  0.11711253, -0.12531938,  0.09535495, -0.15867223,\n",
       "         -0.03630588, -0.35986106, -0.48533958,  0.07965667, -0.279849  ,\n",
       "          0.45319258, -0.06604137, -0.05418939, -0.23565367, -0.1071602 ,\n",
       "          0.04753792, -0.00593864,  0.00917899, -0.07462229, -0.27291528,\n",
       "          0.09425012])),\n",
       " (1.4904414979300162,\n",
       "  array([ 0.08907162, -0.43610253,  0.03206018, -0.36407527,  0.07144158,\n",
       "          0.08156131, -0.03462777,  0.13446625, -0.03950435,  0.25353953,\n",
       "          0.32907981,  0.11358845, -0.26970745, -0.20067549,  0.18636087,\n",
       "          0.32521326, -0.02633319, -0.05585002, -0.0435524 , -0.06777383,\n",
       "          0.43176089])),\n",
       " (1.2318906849636773,\n",
       "  array([ 0.04812437, -0.09002299, -0.6138886 ,  0.425814  ,  0.37702734,\n",
       "          0.15712496, -0.30659338,  0.11919966,  0.04955076,  0.03381089,\n",
       "         -0.25620998, -0.03277374, -0.01908322, -0.10390642, -0.06098948,\n",
       "          0.12210775,  0.04338366, -0.04542177,  0.03242571,  0.05048814,\n",
       "          0.22069115])),\n",
       " (1.0104230625749213,\n",
       "  array([ 0.05671546,  0.04522883, -0.17377152, -0.14722528, -0.18308928,\n",
       "          0.79835674, -0.04120147,  0.00479906, -0.0317843 , -0.02372313,\n",
       "          0.15714854,  0.01472496,  0.10457502,  0.20698723, -0.01625644,\n",
       "          0.25637552, -0.09700288,  0.05352289,  0.01105823,  0.03364777,\n",
       "         -0.33236061])),\n",
       " (0.9532878553786307,\n",
       "  array([ 0.24635254, -0.46710881, -0.09070345,  0.27092339,  0.0781411 ,\n",
       "         -0.3426126 ,  0.09369734, -0.099192  ,  0.14347929,  0.02718524,\n",
       "          0.37407164, -0.07051823,  0.22221523,  0.21604706, -0.0622372 ,\n",
       "          0.27159954,  0.01162688,  0.02065046,  0.02436683,  0.03481408,\n",
       "         -0.39382059])),\n",
       " (0.9458160268494357,\n",
       "  array([ 0.22123566, -0.20296038,  0.48149619,  0.41580177,  0.11717716,\n",
       "          0.40528596,  0.17524345, -0.20140899,  0.01560884, -0.11987265,\n",
       "          0.09199408, -0.10798345,  0.04638574, -0.15990739, -0.21309678,\n",
       "         -0.17636124,  0.07887292,  0.03521688,  0.06911225,  0.13794048,\n",
       "          0.29262936])),\n",
       " (0.7634502247268702,\n",
       "  array([ 0.04483919, -0.19988428, -0.27794809, -0.03226804, -0.03663267,\n",
       "          0.07585253, -0.06987167,  0.12604503,  0.04857451,  0.02210605,\n",
       "          0.35685086,  0.15284495, -0.09872344,  0.17112544,  0.10894364,\n",
       "         -0.79904299, -0.0285522 , -0.00364875, -0.00220515,  0.08982271,\n",
       "         -0.00720695])),\n",
       " (0.6431829521124441,\n",
       "  array([ 0.08334927,  0.10456351, -0.37789615,  0.1492394 , -0.40125117,\n",
       "         -0.0867147 ,  0.58185851,  0.17328054, -0.18204347, -0.3382321 ,\n",
       "          0.13646058,  0.01323162, -0.07745496, -0.10024967, -0.07768091,\n",
       "          0.12215312, -0.06382518,  0.00823595, -0.00854049,  0.09807048,\n",
       "          0.25051846])),\n",
       " (0.5576061893031584,\n",
       "  array([-1.90472225e-01, -4.91440630e-04,  2.42235502e-01,  5.65717642e-01,\n",
       "         -2.60539515e-01,  3.00984303e-02, -1.79275694e-01,  3.45536980e-01,\n",
       "         -2.88430684e-01,  1.18083732e-01,  8.92627020e-02,  8.01023086e-02,\n",
       "         -6.59786068e-02,  6.59045611e-02,  4.38929761e-01,  6.97567392e-02,\n",
       "         -3.37573166e-02, -1.52110160e-02, -3.69680516e-02, -2.00469680e-01,\n",
       "         -6.33675325e-02])),\n",
       " (0.48318268811670695,\n",
       "  array([ 0.1219777 , -0.13548124,  0.13664744, -0.15792525,  0.27360637,\n",
       "          0.00551443, -0.13675515,  0.39937788, -0.07420253, -0.72231405,\n",
       "         -0.01002122,  0.02357351, -0.01263014,  0.03072795, -0.06475387,\n",
       "         -0.0022708 ,  0.02168748, -0.04545109,  0.00705125, -0.35477929,\n",
       "         -0.09166221])),\n",
       " (0.40567614820925746,\n",
       "  array([ 0.11555859, -0.17838014, -0.15614636, -0.01503339, -0.01486663,\n",
       "          0.12340285,  0.31942724, -0.34393955,  0.14701011, -0.04102273,\n",
       "         -0.2725117 , -0.10435986,  0.09337308, -0.0734826 ,  0.53805068,\n",
       "         -0.11211241,  0.12162221, -0.02480263, -0.02224302, -0.50344427,\n",
       "         -0.02119373])),\n",
       " (0.3384761568586313,\n",
       "  array([ 0.0379453 ,  0.17576178,  0.0578873 ,  0.10661381, -0.16317938,\n",
       "          0.05300606,  0.08635982,  0.35809791,  0.74208213,  0.19645681,\n",
       "          0.07447561,  0.02355137, -0.04313337, -0.02025511, -0.24259251,\n",
       "          0.01101808,  0.03008213, -0.0752802 , -0.01263019, -0.34872949,\n",
       "          0.05340108])),\n",
       " (0.24503712105179565,\n",
       "  array([-0.04511919,  0.04383798,  0.03424653, -0.09803895, -0.07920412,\n",
       "         -0.01251181, -0.14723894,  0.20776103,  0.32428505, -0.20494951,\n",
       "          0.09552938, -0.39547213,  0.36699487, -0.2564927 ,  0.44506721,\n",
       "          0.01730273, -0.01388618,  0.00197336,  0.06121236,  0.44027893,\n",
       "          0.06817576])),\n",
       " (0.1746144271652822,\n",
       "  array([ 0.20043736,  0.51247111, -0.0312077 ,  0.03196495,  0.52029364,\n",
       "          0.01095848,  0.21391177,  0.06968442, -0.17007935,  0.18451505,\n",
       "          0.40634784, -0.12089697,  0.01347708, -0.2432441 ,  0.13476329,\n",
       "         -0.03146755, -0.07833447,  0.06161908, -0.03998151, -0.13583057,\n",
       "         -0.15024332])),\n",
       " (0.13401691929417892,\n",
       "  array([-0.45359752, -0.11425558, -0.03580895, -0.01584845,  0.116377  ,\n",
       "          0.0894003 ,  0.22204793,  0.12479891, -0.00206975,  0.00918495,\n",
       "          0.06946716,  0.0247896 , -0.15117852, -0.1979475 , -0.03926968,\n",
       "          0.01538432,  0.72969955,  0.01728902,  0.09812445,  0.1154994 ,\n",
       "         -0.26109532])),\n",
       " (0.11641208394105378,\n",
       "  array([ 0.43067061, -0.02067927,  0.00485877,  0.0439027 , -0.23373605,\n",
       "         -0.03599972, -0.18630648, -0.04645406,  0.06486542, -0.0466009 ,\n",
       "         -0.13729731,  0.10897164, -0.45835986, -0.52583637,  0.03403024,\n",
       "         -0.02849233, -0.02803709,  0.08617794,  0.04931521,  0.1278803 ,\n",
       "         -0.40826143])),\n",
       " (0.026908789327963596,\n",
       "  array([ 9.19443859e-02, -3.47811865e-03,  2.78784527e-03,  6.92909499e-03,\n",
       "         -1.07592852e-02,  5.75068191e-04, -4.46759699e-02,  4.51254708e-02,\n",
       "          4.09187913e-02, -2.46268562e-02, -3.74231372e-02,  4.91618906e-04,\n",
       "          3.00306707e-02,  5.12259722e-02,  1.97507246e-03,  7.08665312e-03,\n",
       "          1.97400344e-01,  5.22676123e-01, -8.13771332e-01,  5.08317372e-02,\n",
       "          5.57091341e-02])),\n",
       " (0.04659382391648049,\n",
       "  array([ 3.48358228e-01,  1.69930481e-01,  4.39113972e-04, -2.28502946e-02,\n",
       "         -1.39202325e-01, -1.01839906e-02, -1.50771290e-01, -5.43677053e-02,\n",
       "         -1.17185257e-01,  1.41882636e-02,  6.54410086e-02, -2.50596885e-02,\n",
       "          8.70434728e-02,  9.02608763e-02,  1.13226353e-03,  8.12157258e-03,\n",
       "          4.24762318e-01, -7.04014777e-01, -2.97529003e-01,  4.84944236e-02,\n",
       "          5.00892187e-02])),\n",
       " (3.49388465091546e-16,\n",
       "  array([-9.35370635e-16, -1.27821745e-17,  7.87156157e-17,  1.01513002e-16,\n",
       "          5.26674924e-16,  8.26396464e-17,  4.41042708e-16, -4.69646637e-17,\n",
       "          2.75400497e-16,  5.45128788e-16,  2.00000664e-16, -7.48686297e-01,\n",
       "         -5.68735668e-01,  3.40600308e-01,  2.91762778e-16, -1.25265318e-16,\n",
       "         -1.65152517e-15,  2.16637584e-17,  3.57806920e-15,  5.42656928e-17,\n",
       "         -5.13328958e-16]))]"
      ]
     },
     "execution_count": 41,
     "metadata": {},
     "output_type": "execute_result"
    }
   ],
   "source": [
    "eig_pairs = [(np.abs(eig_vals[i]), eig_vecs[:, i]) for i in range(len(eig_vals))]\n",
    "eig_pairs"
   ]
  },
  {
   "cell_type": "code",
   "execution_count": 42,
   "metadata": {},
   "outputs": [
    {
     "name": "stdout",
     "output_type": "stream",
     "text": [
      "Variance explained: [29.074404946573434, 16.678701915531626, 8.727954366803822, 7.0913763146810265, 5.8612165843209745, 4.80749508363978, 4.535651300701046, 4.500101064121562, 3.6324222376960718, 3.060202201127234, 2.6530362508261507, 2.298936439258761, 1.9301678280144334, 1.610436776730342, 1.1658628928794914, 0.8307985350120864, 0.6376395239727037, 0.5538774221925286, 0.22168890210762415, 0.12802941380931854, 1.6623564825684194e-15]\n"
     ]
    }
   ],
   "source": [
    "total = sum(eig_vals)\n",
    "var_exp = [(i / total)*100 for i in sorted(eig_vals, reverse=True)]\n",
    "print(\"Variance explained:\", var_exp)"
   ]
  },
  {
   "cell_type": "code",
   "execution_count": 43,
   "metadata": {},
   "outputs": [
    {
     "name": "stdout",
     "output_type": "stream",
     "text": [
      "Cumulative explained variance: [ 29.07440495  45.75310686  54.48106123  61.57243754  67.43365413\n",
      "  72.24114921  76.77680051  81.27690158  84.90932381  87.96952602\n",
      "  90.62256227  92.92149871  94.85166653  96.46210331  97.6279662\n",
      "  98.45876474  99.09640426  99.65028168  99.87197059 100.\n",
      " 100.        ]\n"
     ]
    }
   ],
   "source": [
    "cum_var_exp = np.cumsum(var_exp)\n",
    "print(\"Cumulative explained variance:\", cum_var_exp)"
   ]
  },
  {
   "cell_type": "code",
   "execution_count": 49,
   "metadata": {},
   "outputs": [
    {
     "data": {
      "text/plain": [
       "PCA(n_components=6)"
      ]
     },
     "execution_count": 49,
     "metadata": {},
     "output_type": "execute_result"
    }
   ],
   "source": [
    "pca = PCA(n_components=6)\n",
    "pca.fit(X_train)"
   ]
  },
  {
   "cell_type": "code",
   "execution_count": 50,
   "metadata": {},
   "outputs": [
    {
     "name": "stdout",
     "output_type": "stream",
     "text": [
      "[0.29074405 0.16678702 0.08727954 0.07091376 0.05861217 0.04807495]\n"
     ]
    }
   ],
   "source": [
    "print(pca.explained_variance_ratio_)"
   ]
  },
  {
   "cell_type": "code",
   "execution_count": 51,
   "metadata": {},
   "outputs": [
    {
     "data": {
      "text/plain": [
       "0.7224114892408087"
      ]
     },
     "execution_count": 51,
     "metadata": {},
     "output_type": "execute_result"
    }
   ],
   "source": [
    "pca.explained_variance_ratio_.sum()"
   ]
  },
  {
   "cell_type": "code",
   "execution_count": 52,
   "metadata": {},
   "outputs": [],
   "source": [
    "X_train_pca = pca.transform(X_train)\n",
    "X_test_pca = pca.transform(X_test)"
   ]
  },
  {
   "cell_type": "code",
   "execution_count": 61,
   "metadata": {},
   "outputs": [],
   "source": [
    "lr = LogisticRegression(C=55)\n",
    "lr.fit(X_train_pca, y_train)\n",
    "lr_pred = lr.predict(X_test_pca)"
   ]
  },
  {
   "cell_type": "code",
   "execution_count": 60,
   "metadata": {},
   "outputs": [
    {
     "name": "stdout",
     "output_type": "stream",
     "text": [
      "0.8647058823529412\n"
     ]
    }
   ],
   "source": [
    "print(accuracy_score(y_test,lr_pred))"
   ]
  },
  {
   "cell_type": "code",
   "execution_count": 65,
   "metadata": {},
   "outputs": [
    {
     "name": "stdout",
     "output_type": "stream",
     "text": [
      "0.8941176470588236\n"
     ]
    }
   ],
   "source": [
    "print(accuracy_score(y_train,lr.predict(X_train_pca)))"
   ]
  },
  {
   "cell_type": "code",
   "execution_count": null,
   "metadata": {},
   "outputs": [],
   "source": []
  }
 ],
 "metadata": {
  "kernelspec": {
   "display_name": "Python 3",
   "language": "python",
   "name": "python3"
  },
  "language_info": {
   "codemirror_mode": {
    "name": "ipython",
    "version": 3
   },
   "file_extension": ".py",
   "mimetype": "text/x-python",
   "name": "python",
   "nbconvert_exporter": "python",
   "pygments_lexer": "ipython3",
   "version": "3.7.6"
  },
  "orig_nbformat": 4,
  "vscode": {
   "interpreter": {
    "hash": "5109d816b82be14675a6b11f8e0f0d2e80f029176ed3710d54e125caa8520dfd"
   }
  }
 },
 "nbformat": 4,
 "nbformat_minor": 2
}
